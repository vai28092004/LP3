{
 "cells": [
  {
   "cell_type": "code",
   "execution_count": 1,
   "id": "6d1c7e8c-b6ab-439d-a3c6-e159c34d2f20",
   "metadata": {},
   "outputs": [],
   "source": [
    "import pandas as pd\n",
    "from sklearn.model_selection import train_test_split\n",
    "from sklearn.feature_extraction.text import TfidfVectorizer\n",
    "from sklearn.neighbors import KNeighborsClassifier\n",
    "from sklearn.svm import SVC\n",
    "from sklearn.metrics import accuracy_score, precision_score, recall_score, f1_score, confusion_matrix\n"
   ]
  },
  {
   "cell_type": "code",
   "execution_count": 10,
   "id": "027767e9-cb34-479d-bfe1-ed5cd9e01250",
   "metadata": {},
   "outputs": [],
   "source": [
    "df = pd.read_csv('emails.csv')"
   ]
  },
  {
   "cell_type": "code",
   "execution_count": 11,
   "id": "c880c2d9-7102-4aba-9102-7734113fe83c",
   "metadata": {},
   "outputs": [],
   "source": [
    "df.dropna(inplace=True)"
   ]
  },
  {
   "cell_type": "code",
   "execution_count": 12,
   "id": "e4ca5679-6999-47c7-9894-e7682fc768a5",
   "metadata": {},
   "outputs": [
    {
     "name": "stdout",
     "output_type": "stream",
     "text": [
      "  Email No.  the  to  ect  and  for  of    a  you  hou  ...  connevey  jay  \\\n",
      "0   Email 1    0   0    1    0    0   0    2    0    0  ...         0    0   \n",
      "1   Email 2    8  13   24    6    6   2  102    1   27  ...         0    0   \n",
      "2   Email 3    0   0    1    0    0   0    8    0    0  ...         0    0   \n",
      "3   Email 4    0   5   22    0    5   1   51    2   10  ...         0    0   \n",
      "4   Email 5    7   6   17    1    5   2   57    0    9  ...         0    0   \n",
      "\n",
      "   valued  lay  infrastructure  military  allowing  ff  dry  Prediction  \n",
      "0       0    0               0         0         0   0    0           0  \n",
      "1       0    0               0         0         0   1    0           0  \n",
      "2       0    0               0         0         0   0    0           0  \n",
      "3       0    0               0         0         0   0    0           0  \n",
      "4       0    0               0         0         0   1    0           0  \n",
      "\n",
      "[5 rows x 3002 columns]\n"
     ]
    }
   ],
   "source": [
    "# Display the first few rows of the dataset\n",
    "print(df.head())\n"
   ]
  },
  {
   "cell_type": "code",
   "execution_count": 13,
   "id": "414a5c9a-15bb-4bae-8d94-da51a11e4982",
   "metadata": {},
   "outputs": [],
   "source": [
    "df.drop(['Email No.'],axis=1,inplace=True)\n",
    "X = df.drop(['Prediction'],axis = 1)\n",
    "y = df['Prediction']\n"
   ]
  },
  {
   "cell_type": "code",
   "execution_count": 15,
   "id": "0abefb25-db31-47f7-92a1-80e55adb56a6",
   "metadata": {},
   "outputs": [],
   "source": [
    "from sklearn.preprocessing import scale\n",
    "X = scale(X)\n",
    "# split into train and test\n",
    "X_train, X_test, y_train, y_test = train_test_split(X, y, test_size = 0.3, random_state = 42)\n"
   ]
  },
  {
   "cell_type": "code",
   "execution_count": 16,
   "id": "9200fea3-65b8-49a4-8ba7-811c4f6a4aeb",
   "metadata": {},
   "outputs": [],
   "source": [
    "knn = KNeighborsClassifier(n_neighbors=7)\n",
    "knn.fit(X_train, y_train)\n",
    "y_pred_knn = knn.predict(X_test)\n"
   ]
  },
  {
   "cell_type": "code",
   "execution_count": 18,
   "id": "912f77f2-e36b-40cb-a970-e7383943b5dc",
   "metadata": {},
   "outputs": [],
   "source": [
    "from sklearn.model_selection import train_test_split\n",
    "from sklearn.svm import SVC\n",
    "from sklearn.neighbors import KNeighborsClassifier\n",
    "from sklearn import metrics\n",
    "from sklearn.preprocessing import scale"
   ]
  },
  {
   "cell_type": "code",
   "execution_count": 19,
   "id": "4992d3dd-c7b0-4b13-b9d8-eb72c0b7cad2",
   "metadata": {},
   "outputs": [
    {
     "name": "stdout",
     "output_type": "stream",
     "text": [
      "KNN Accuracy =  0.8009020618556701\n",
      "KNN Confusion Matrix:\n",
      " [[804 293]\n",
      " [ 16 439]]\n",
      "KNN Classification Report:\n",
      "               precision    recall  f1-score   support\n",
      "\n",
      "           0       0.98      0.73      0.84      1097\n",
      "           1       0.60      0.96      0.74       455\n",
      "\n",
      "    accuracy                           0.80      1552\n",
      "   macro avg       0.79      0.85      0.79      1552\n",
      "weighted avg       0.87      0.80      0.81      1552\n",
      "\n"
     ]
    }
   ],
   "source": [
    "print(\"KNN Accuracy = \", metrics.accuracy_score(y_test, y_pred_knn))\n",
    "print(\"KNN Confusion Matrix:\\n\", metrics.confusion_matrix(y_test, y_pred_knn))\n",
    "print(\"KNN Classification Report:\\n\", metrics.classification_report(y_test, y_pred_knn))"
   ]
  },
  {
   "cell_type": "code",
   "execution_count": 20,
   "id": "593738ef-9769-4ab2-bd9a-f954af547ec8",
   "metadata": {},
   "outputs": [],
   "source": [
    "svm = SVC(kernel='linear')  # Linear kernel\n",
    "svm.fit(X_train, y_train)\n",
    "y_pred_svm = svm.predict(X_test)"
   ]
  },
  {
   "cell_type": "code",
   "execution_count": 21,
   "id": "97475d53-6164-42bf-96b3-db352e750033",
   "metadata": {},
   "outputs": [
    {
     "name": "stdout",
     "output_type": "stream",
     "text": [
      "SVM Accuracy =  0.9432989690721649\n",
      "SVM Confusion Matrix:\n",
      " [[1047   50]\n",
      " [  38  417]]\n",
      "SVM Classification Report:\n",
      "               precision    recall  f1-score   support\n",
      "\n",
      "           0       0.96      0.95      0.96      1097\n",
      "           1       0.89      0.92      0.90       455\n",
      "\n",
      "    accuracy                           0.94      1552\n",
      "   macro avg       0.93      0.94      0.93      1552\n",
      "weighted avg       0.94      0.94      0.94      1552\n",
      "\n"
     ]
    }
   ],
   "source": [
    "print(\"SVM Accuracy = \", metrics.accuracy_score(y_test, y_pred_svm))\n",
    "print(\"SVM Confusion Matrix:\\n\", metrics.confusion_matrix(y_test, y_pred_svm))\n",
    "print(\"SVM Classification Report:\\n\", metrics.classification_report(y_test, y_pred_svm))"
   ]
  },
  {
   "cell_type": "code",
   "execution_count": null,
   "id": "1fd09da1-31ab-4851-8aec-935fd987be9d",
   "metadata": {},
   "outputs": [],
   "source": []
  }
 ],
 "metadata": {
  "kernelspec": {
   "display_name": "Python 3 (ipykernel)",
   "language": "python",
   "name": "python3"
  },
  "language_info": {
   "codemirror_mode": {
    "name": "ipython",
    "version": 3
   },
   "file_extension": ".py",
   "mimetype": "text/x-python",
   "name": "python",
   "nbconvert_exporter": "python",
   "pygments_lexer": "ipython3",
   "version": "3.12.3"
  }
 },
 "nbformat": 4,
 "nbformat_minor": 5
}
